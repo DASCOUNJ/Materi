{
 "cells": [
  {
   "source": [
    "# Python Bagian 1\n",
    "\n",
    "`Variable`, `Operation`, dan `Data Type` pada python\n",
    "\n",
    "## Content :\n",
    "\n",
    "1. Variable\n",
    "2. Tipe Data Primitive<br>\n",
    "    1. Mengubah Tipe data\n",
    "3. Operation\n",
    "4. Tipe Data Pengumpulan\n",
    "    1. List\n",
    "    2. Tuple\n",
    "    3. Set\n",
    "    4. Dictionary\n",
    "\n",
    "## Referensi Bacaan\n",
    "\n",
    "1. Variable : [w3schools](https://www.w3schools.com/python/python_variables.asp)\n",
    "2. Tipe Data : [w3schools](https://www.w3schools.com/python/python_datatypes.asp)\n",
    "3. Operation : [w3schools](https://www.w3schools.com/python/python_operators.asp)\n",
    "\n",
    "**© DASCO UNJ 2021**"
   ],
   "cell_type": "markdown",
   "metadata": {}
  },
  {
   "cell_type": "markdown",
   "metadata": {},
   "source": [
    "# 1. Variabel \n",
    "\n",
    "Assign Variable dengan bermacam - macam tipe data"
   ]
  },
  {
   "cell_type": "code",
   "execution_count": 1,
   "metadata": {},
   "outputs": [],
   "source": [
    "nama = \"Budi\" \n",
    "Umur = 34\n",
    "ipk_1 = 3.22\n",
    "Laki_laki = True\n",
    "Ekstrakulikuler_ = None "
   ]
  },
  {
   "source": [
    "Assign lebih dari 1 variable dalam 1 line"
   ],
   "cell_type": "markdown",
   "metadata": {}
  },
  {
   "cell_type": "code",
   "execution_count": 2,
   "metadata": {},
   "outputs": [],
   "source": [
    "nama, Umur = \"Budi\", 34"
   ]
  },
  {
   "cell_type": "markdown",
   "metadata": {},
   "source": [
    "# 2. Tipe Data \n",
    "\n",
    "Mengecek macam - macam tipe data"
   ]
  },
  {
   "cell_type": "code",
   "execution_count": 3,
   "metadata": {},
   "outputs": [
    {
     "output_type": "stream",
     "name": "stdout",
     "text": [
      "Cek type data nama adalah <class 'str'>\nCek type data umur adalah <class 'int'>\nCek type data ipk_1 adalah <class 'float'>\nCek type data Laki-laki adalah <class 'bool'>\nCek type data Ekstrakulikuler adalah <class 'NoneType'>\n"
     ]
    }
   ],
   "source": [
    "print(\"Cek type data nama adalah\", type(nama))\n",
    "print(\"Cek type data umur adalah\", type(Umur))\n",
    "print(\"Cek type data ipk_1 adalah\", type(ipk_1))\n",
    "print(\"Cek type data Laki-laki adalah\", type(Laki_laki))\n",
    "print(\"Cek type data Ekstrakulikuler adalah\", type(Ekstrakulikuler_))"
   ]
  },
  {
   "source": [
    "## Mengubah tipe data\n",
    "\n",
    "Mengubah tipe data yang sudah di assign pada suatu variable dapat dilakukan dengan menggunakan `fungsi` atau `class` dari tipe data tujuan seperti contoh di bawah ini"
   ],
   "cell_type": "markdown",
   "metadata": {}
  },
  {
   "cell_type": "code",
   "execution_count": 4,
   "metadata": {},
   "outputs": [
    {
     "output_type": "stream",
     "name": "stdout",
     "text": [
      "34.0\n3\nTrue\n"
     ]
    }
   ],
   "source": [
    "print(float(Umur))\n",
    "print(int(ipk_1))\n",
    "print(bool(2))"
   ]
  },
  {
   "source": [
    "**Penjelasan**\n",
    "\n",
    "1. Variable `umur` yang bertipe data `int` dirubah menjadi `float` dengan pass `Umur` sebagai parameter dari fungsi `float`\n",
    "2. Variable `ipk_1` nilainya diubah menjadi `int` dengan ketentuan pengubahan data menjadi `int` dari tipe data `float` akan dilakukan dengan **pembulatan kebawah**\n",
    "3. Pada line ke 3 diubah tipe data `int` ke boolean dengan ketentuan jika != 0 maka akan dianggap `True` dan jika == 0 maka akan dianggap `False`"
   ],
   "cell_type": "markdown",
   "metadata": {}
  },
  {
   "cell_type": "markdown",
   "metadata": {},
   "source": [
    "# 3. Operation\n",
    "\n",
    "Operasi - operasi pada python\n",
    "\n",
    "## Operator Aritmatika\n",
    "\n",
    "Operator aritmatika berfungsi untuk melakukan operasi peritungan matematika biasa\n",
    "\n",
    "| Operator | Fungsi |\n",
    "| :-------------: | :-------------: |\n",
    "| + | Penambahan\t|\n",
    "| - | Pengurangan |\n",
    "| *\t| Perkalian |\n",
    "| / | Pembagian |\n",
    "| % | Moddulo |\n",
    "| ** | Exponensiasi |\n",
    "| // | Pembagian dengan pembulatan ke bawah |"
   ]
  },
  {
   "cell_type": "code",
   "execution_count": 5,
   "metadata": {},
   "outputs": [
    {
     "output_type": "stream",
     "name": "stdout",
     "text": [
      "101 ditambah dengan 10 adalah 111\n",
      "101 dikurang dengan 10 adalah 91\n",
      "101 dibagi dengan 10 adalah 10.1\n",
      "101 modulo 10 adalah 1\n",
      "101 pangkat 10 adalah 110462212541120451001\n",
      "pembulatan ke bawah dari 101 dibagi dengan 10 adalah 10\n"
     ]
    }
   ],
   "source": [
    "num = 101\n",
    "\n",
    "print(\"101 ditambah dengan 10 adalah\", num + 10)\n",
    "print(\"101 dikurang dengan 10 adalah\", num - 10)\n",
    "print(\"101 dibagi dengan 10 adalah\", num / 10)\n",
    "print(\"101 modulo 10 adalah\", num % 10)\n",
    "print(\"101 pangkat 10 adalah\", num ** 10)\n",
    "print(\"pembulatan ke bawah dari 101 dibagi dengan 10 adalah\", num // 10)"
   ]
  },
  {
   "source": [
    "## Operator Assigment\n",
    "\n",
    "Operator untuk melakukan assigment ke dalam sebuah variable\n",
    "\n",
    "| Operator | Fungsi |\n",
    "| :-------------: | :-------------: |\n",
    "| = | Assigment biasa |\n",
    "| += | Penambahan\t|\n",
    "| -= | Pengurangan |\n",
    "| *= | Perkalian |\n",
    "| /= | Pembagian |\n",
    "| %= | Moddulo |\n",
    "| **= | Exponensiasi |\n",
    "| //= | Pembagian dengan pembulatan ke bawah |"
   ],
   "cell_type": "markdown",
   "metadata": {}
  },
  {
   "cell_type": "code",
   "execution_count": 6,
   "metadata": {},
   "outputs": [],
   "source": [
    "num = 101\n",
    "\n",
    "num += 10 # Tambah 10\n",
    "num -= 10 # Kurang 10\n",
    "num *= 10 # Kali 10\n",
    "num /= 10 # Bagi 10\n",
    "num %= 10 # Modulo 10\n",
    "num **= 10 # Pangkat 10\n",
    "num //= 10 # Bagi 10 lalu di bulatkan ke bawah"
   ]
  },
  {
   "source": [
    "Dapatkah kamu menebah berapa nilai num sekarang?\n",
    "\n",
    "Jika sudah yakin dengan tebakanmu bukalah tab di bawah ini\n",
    "\n",
    "<details>\n",
    "    <summary>Jawaban</summary>\n",
    "    Jawabannya adalah <code>0</code>, karena saat <code>num %= 10</code> akan menghasilkan nilai <code>1</code> selanjutnya <code>num **= 10</code> akan menghasilkan nilai <code>1</code> juga dan ketika <code>num //= 10</code> hasilnya adalah <code>0</code> karena <code>0.1</code> di bulatkan kebawah.\n",
    "</details>"
   ],
   "cell_type": "markdown",
   "metadata": {}
  },
  {
   "source": [
    "## Operator Perbandingan dan Logical\n",
    "\n",
    "Operator untuk melakukan perbandingan dan logical, biasa berhubungan erat dengan tipe data boolean\n",
    "\n",
    "| Operator | Fungsi |\n",
    "| :-------------: | :-------------: |\n",
    "| == | Sama dengan |\n",
    "| != | Tidak sama dengan |\n",
    "| > | Lebih dari |\n",
    "| < | Kurang dari |\n",
    "| >= | Lebih dari sama dengan |\n",
    "| <= | Kurang dari sama dengan |\n",
    "| and | Dan |\n",
    "| or | Atau |\n",
    "| not | Tidak / Bukan |"
   ],
   "cell_type": "markdown",
   "metadata": {}
  },
  {
   "cell_type": "code",
   "execution_count": 7,
   "metadata": {},
   "outputs": [
    {
     "output_type": "stream",
     "name": "stdout",
     "text": [
      "####Perbandingan####\nFalse\nTrue\nTrue\nFalse\nTrue\nFalse\n\n######Logical#######\nTrue\nFalse\nFalse\nTrue\nTrue\nFalse\n"
     ]
    }
   ],
   "source": [
    "num = 101\n",
    "\n",
    "print('Perbandingan'.center(20, '#'))\n",
    "print(num == 100)\n",
    "print(num != 100)\n",
    "print(num > 100)\n",
    "print(num < 100)\n",
    "print(num >= 100)\n",
    "print(num <= 100)\n",
    "print()\n",
    "print('Logical'.center(20, '#'))\n",
    "print(True and True)\n",
    "print(True and False)\n",
    "print(False and False)\n",
    "print(True or True)\n",
    "print(True or False)\n",
    "print(False or False)"
   ]
  },
  {
   "cell_type": "markdown",
   "metadata": {},
   "source": [
    "# 4. Tipe Data Sequance\n",
    "\n",
    "1. List\n",
    "2. Tuple\n",
    "3. Set\n",
    "4. Dictionary"
   ]
  },
  {
   "source": [
    "## 1. List\n",
    "\n",
    "Ciri :\n",
    "\n",
    "1. Dimulai dengan notasi `[` dan ditutup dengan `]`\n",
    "2. Mutable\n",
    "3. Element\"nya tidak Unique\n",
    "4. Tipe data dari element\"nya bisa tidak sama"
   ],
   "cell_type": "markdown",
   "metadata": {}
  },
  {
   "cell_type": "code",
   "execution_count": 8,
   "metadata": {},
   "outputs": [],
   "source": [
    "# List \n",
    "list1 = [20, 4.5, True, 'buku', 30, 41, 'gula', 8.9]"
   ]
  },
  {
   "source": [
    "### Indexing\n",
    "\n",
    "Memanggil sebuah element atau lebih berdasarkan indexnya\n",
    "\n",
    "1. Memanggil sebuah element\n",
    "\n",
    "cara pemanggilan untuk sebuah element dari list adalah\n",
    "\n",
    "```python\n",
    "VARIABLE[INDEX]\n",
    "```"
   ],
   "cell_type": "markdown",
   "metadata": {}
  },
  {
   "cell_type": "code",
   "execution_count": 9,
   "metadata": {},
   "outputs": [
    {
     "output_type": "execute_result",
     "data": {
      "text/plain": [
       "20"
      ]
     },
     "metadata": {},
     "execution_count": 9
    }
   ],
   "source": [
    "list1[0]  #Menampilkan Indeks"
   ]
  },
  {
   "source": [
    "2. Memanggil lebih dari satu element\n",
    "\n",
    "cara pemanggilan lebih dari satu element di list adalah\n",
    "\n",
    "```python\n",
    "VARIABLE[INDEX_MULAI:INDEX_STOP+1:LOMPAT**]\n",
    "```\n",
    "\n",
    "**Note**\n",
    "\n",
    "`LOMPAT` bersifat optional/dapat tidak diisi. jika tidak diisi maka default nilai `LOMPAT` adalah `1`"
   ],
   "cell_type": "markdown",
   "metadata": {}
  },
  {
   "cell_type": "code",
   "execution_count": 10,
   "metadata": {},
   "outputs": [
    {
     "output_type": "execute_result",
     "data": {
      "text/plain": [
       "[4.5, True, 'buku', 30]"
      ]
     },
     "metadata": {},
     "execution_count": 10
    }
   ],
   "source": [
    "list1[1:5] # Tanpa lopat"
   ]
  },
  {
   "cell_type": "code",
   "execution_count": 11,
   "metadata": {},
   "outputs": [
    {
     "output_type": "execute_result",
     "data": {
      "text/plain": [
       "[4.5, 'buku', 41]"
      ]
     },
     "metadata": {},
     "execution_count": 11
    }
   ],
   "source": [
    "list1[1:6:2] # Dengan Lompat"
   ]
  },
  {
   "source": [
    "### Mengubah nilai pada sebuah element di dalam list\n",
    "\n",
    "1. Untuk sebuah element"
   ],
   "cell_type": "markdown",
   "metadata": {}
  },
  {
   "cell_type": "code",
   "execution_count": 12,
   "metadata": {},
   "outputs": [
    {
     "output_type": "execute_result",
     "data": {
      "text/plain": [
       "[0, 4.5, True, 'buku', 30, 41, 'gula', 8.9]"
      ]
     },
     "metadata": {},
     "execution_count": 12
    }
   ],
   "source": [
    "list1[0] = 0\n",
    "list1"
   ]
  },
  {
   "source": [
    "2. Lebih dari satu element"
   ],
   "cell_type": "markdown",
   "metadata": {}
  },
  {
   "cell_type": "code",
   "execution_count": 13,
   "metadata": {},
   "outputs": [
    {
     "output_type": "execute_result",
     "data": {
      "text/plain": [
       "[0, 30, 29, True, 'buku', 30, 41, 'gula', 8.9]"
      ]
     },
     "metadata": {},
     "execution_count": 13
    }
   ],
   "source": [
    "list1[1:2] = [30,29]\n",
    "list1"
   ]
  },
  {
   "source": [
    "3. Menambahkan element pada list\n",
    "\n",
    "Metode :\n",
    "\n",
    "1. `append` : Menambahkan element ke posisi terakhir dari list \n",
    "2. `insert` : Menambahkan element ke posisi yang spesifik dari list"
   ],
   "cell_type": "markdown",
   "metadata": {}
  },
  {
   "cell_type": "code",
   "execution_count": 14,
   "metadata": {},
   "outputs": [
    {
     "output_type": "execute_result",
     "data": {
      "text/plain": [
       "[0, 'a', 30, 29, True, 'buku', 30, 41, 'gula', 8.9, 'a']"
      ]
     },
     "metadata": {},
     "execution_count": 14
    }
   ],
   "source": [
    "list1.append('a')\n",
    "list1.insert(1, 'a')\n",
    "list1"
   ]
  },
  {
   "source": [
    "4. Menghapus element pada list\n",
    "\n",
    "Metode :\n",
    "\n",
    "1. `pop` : Menghapus element berdasarkan posisi element tersebut dan element yang dihapus akan di `return` sebagai hasil operasi\n",
    "2. `remove` : Menghapus element berdasarkan nilai dari element tersebut\n",
    "3. `del` : Menghapus element berdasarkan posisi element tersebut **(tidak dianjurkan)**"
   ],
   "cell_type": "markdown",
   "metadata": {}
  },
  {
   "cell_type": "code",
   "execution_count": 15,
   "metadata": {},
   "outputs": [
    {
     "output_type": "stream",
     "name": "stdout",
     "text": [
      "Sebelum dihapus : [0, 'a', 30, 29, True, 'buku', 30, 41, 'gula', 8.9, 'a']\nSesudah dihapus : ['a', 30, 29, 'buku', 30, 41, 'gula', 8.9]\nContoh assignt nilai pop ke variable : True\n"
     ]
    }
   ],
   "source": [
    "print(\"Sebelum dihapus :\", list1)\n",
    "list1.pop(0) # Menghapus element pertama di list1\n",
    "list1.pop() # jika tidak di pass parameternya akan otomatis menghapus \n",
    "            # element terakhir\n",
    "hasil_hapusan = list1.pop(3) # Menghapus element ke 4 lalu memasukkannya ke variable\n",
    "print(\"Sesudah dihapus :\", list1)\n",
    "print(\"Contoh assignt nilai pop ke variable :\", hasil_hapusan)"
   ]
  },
  {
   "source": [
    "### Terusan\n",
    "\n",
    "Lebih lanjut tentang perintah - perintah yang ada dalam sebuah list dan lainnya dapat dibaca di\n",
    "\n",
    "1. [List | w3schools](https://www.w3schools.com/python/python_lists.asp)\n",
    "2. [List methods | w3schools](https://www.w3schools.com/python/python_lists_methods.asp)"
   ],
   "cell_type": "markdown",
   "metadata": {}
  },
  {
   "source": [
    "## Tuple\n",
    "\n",
    "Ciri :\n",
    "\n",
    "1. Dimulai dengan notasi `(` dan ditutup dengan `)`\n",
    "2. Imutable\n",
    "3. Element\"nya tidak Unique\n",
    "4. Tipe data dari element\"nya bisa tidak sama"
   ],
   "cell_type": "markdown",
   "metadata": {}
  },
  {
   "cell_type": "code",
   "execution_count": 16,
   "metadata": {},
   "outputs": [],
   "source": [
    "# Tuple\n",
    "mytuple_1 = ('aku', 2, True, 40, 29)"
   ]
  },
  {
   "source": [
    "Karena sifat `tuple` adalah imutable maka element\" yang ada di dalamnya tidak bisa dirubah"
   ],
   "cell_type": "markdown",
   "metadata": {}
  },
  {
   "cell_type": "code",
   "execution_count": 17,
   "metadata": {},
   "outputs": [
    {
     "output_type": "error",
     "ename": "TypeError",
     "evalue": "'tuple' object does not support item assignment",
     "traceback": [
      "\u001b[1;31m---------------------------------------------------------------------------\u001b[0m",
      "\u001b[1;31mTypeError\u001b[0m                                 Traceback (most recent call last)",
      "\u001b[1;32m<ipython-input-17-171b976b732b>\u001b[0m in \u001b[0;36m<module>\u001b[1;34m\u001b[0m\n\u001b[1;32m----> 1\u001b[1;33m \u001b[0mmytuple_1\u001b[0m\u001b[1;33m[\u001b[0m\u001b[1;36m0\u001b[0m\u001b[1;33m]\u001b[0m \u001b[1;33m=\u001b[0m \u001b[1;34m'kamu'\u001b[0m\u001b[1;33m\u001b[0m\u001b[1;33m\u001b[0m\u001b[0m\n\u001b[0m",
      "\u001b[1;31mTypeError\u001b[0m: 'tuple' object does not support item assignment"
     ]
    }
   ],
   "source": [
    "mytuple_1[0] = 'kamu'"
   ]
  },
  {
   "source": [
    "akan terjadi error seperti diatas jika mencoba untuk mengubah element yang ada di dalam tuple\n",
    "\n",
    "### Terusan\n",
    "\n",
    "Lebih lanjut tentang perintah - perintah yang ada dalam sebuah tuple dan lainnya dapat dibaca di\n",
    "\n",
    "1. [Tuple | w3schools](https://www.w3schools.com/python/python_tuples.asp)\n",
    "2. [Tuple methods | w3schools](https://www.w3schools.com/python/python_tuples_methods.asp)"
   ],
   "cell_type": "markdown",
   "metadata": {}
  },
  {
   "source": [
    "## Set\n",
    "\n",
    "Ciri :\n",
    "\n",
    "1. Dimulai dengan notasi `{` dan ditutup dengan `}`\n",
    "2. Imutable\n",
    "3. Element\"nya Unique\n",
    "4. Unordered\n",
    "5. Tipe data dari element\"nya bisa tidak sama"
   ],
   "cell_type": "markdown",
   "metadata": {}
  },
  {
   "cell_type": "code",
   "execution_count": 18,
   "metadata": {},
   "outputs": [
    {
     "output_type": "execute_result",
     "data": {
      "text/plain": [
       "{1, 2, 3, 4, 5, 6, 7, 8, 'test'}"
      ]
     },
     "metadata": {},
     "execution_count": 18
    }
   ],
   "source": [
    "myset = {1,1,2,2,1,3,4,5,6,7,8,8,\"test\"}\n",
    "myset_1 = {\"TEST\", 2}\n",
    "myset"
   ]
  },
  {
   "source": [
    "Karena sifat dari set `unordered` maka tidak dapat dilakukan `indexing`"
   ],
   "cell_type": "markdown",
   "metadata": {}
  },
  {
   "cell_type": "code",
   "execution_count": 19,
   "metadata": {},
   "outputs": [
    {
     "output_type": "error",
     "ename": "TypeError",
     "evalue": "'set' object is not subscriptable",
     "traceback": [
      "\u001b[1;31m---------------------------------------------------------------------------\u001b[0m",
      "\u001b[1;31mTypeError\u001b[0m                                 Traceback (most recent call last)",
      "\u001b[1;32m<ipython-input-19-7bf1ad60f89f>\u001b[0m in \u001b[0;36m<module>\u001b[1;34m\u001b[0m\n\u001b[1;32m----> 1\u001b[1;33m \u001b[0mmyset\u001b[0m\u001b[1;33m[\u001b[0m\u001b[1;36m1\u001b[0m\u001b[1;33m]\u001b[0m\u001b[1;33m\u001b[0m\u001b[1;33m\u001b[0m\u001b[0m\n\u001b[0m",
      "\u001b[1;31mTypeError\u001b[0m: 'set' object is not subscriptable"
     ]
    }
   ],
   "source": [
    "myset[1]"
   ]
  },
  {
   "source": [
    "Menggabungkan 2 set"
   ],
   "cell_type": "markdown",
   "metadata": {}
  },
  {
   "cell_type": "code",
   "execution_count": 20,
   "metadata": {},
   "outputs": [
    {
     "output_type": "stream",
     "name": "stdout",
     "text": [
      "Gabungan {1, 2, 3, 4, 5, 6, 7, 8, 'test', 'TEST'}\nIrisan {2}\n"
     ]
    }
   ],
   "source": [
    "print(\"Gabungan\", myset.union(myset_1))\n",
    "print(\"Irisan\", myset.intersection(myset_1))"
   ]
  },
  {
   "source": [
    "### Terusan\n",
    "\n",
    "Lebih lanjut tentang perintah - perintah yang ada dalam sebuah set dan lainnya dapat dibaca di\n",
    "\n",
    "1. [Set | w3schools](https://www.w3schools.com/python/python_sets.asp)\n",
    "2. [Set methods | w3schools](https://www.w3schools.com/python/python_sets_methods.asp)"
   ],
   "cell_type": "markdown",
   "metadata": {}
  },
  {
   "source": [
    "## Dictionary\n",
    "\n",
    "Ciri :\n",
    "\n",
    "1. Dimulai dengan notasi `{` dan ditutup dengan `}`\n",
    "2. Mutable\n",
    "3. Memiliki `key` dan `value`\n",
    "4. `key` nya harus unique\n",
    "5. Tipe data dari element\"nya bisa tidak sama"
   ],
   "cell_type": "markdown",
   "metadata": {}
  },
  {
   "cell_type": "code",
   "execution_count": 21,
   "metadata": {},
   "outputs": [
    {
     "output_type": "execute_result",
     "data": {
      "text/plain": [
       "{'Nama': 'Budi', 'Nilai': 80}"
      ]
     },
     "metadata": {},
     "execution_count": 21
    }
   ],
   "source": [
    "mydictionary = {'Nama': 'Budi', 'Nilai': 80}\n",
    "mydictionary"
   ]
  },
  {
   "source": [
    "### Indexing \n",
    "\n",
    "Indexing pada dictionary dilakukan dengan menggunakan key nya\n",
    "\n",
    "```python\n",
    "VARIABLE[KEY]\n",
    "```"
   ],
   "cell_type": "markdown",
   "metadata": {}
  },
  {
   "cell_type": "code",
   "execution_count": 22,
   "metadata": {},
   "outputs": [
    {
     "output_type": "execute_result",
     "data": {
      "text/plain": [
       "'Budi'"
      ]
     },
     "metadata": {},
     "execution_count": 22
    }
   ],
   "source": [
    "mydictionary['Nama']     #Mengakses item"
   ]
  },
  {
   "source": [
    "### Keys dan Values\n",
    "\n",
    "Menampilkan semua `key` dan `value` pada dictionary"
   ],
   "cell_type": "markdown",
   "metadata": {}
  },
  {
   "cell_type": "code",
   "execution_count": 23,
   "metadata": {},
   "outputs": [
    {
     "output_type": "stream",
     "name": "stdout",
     "text": [
      "Keys dict_keys(['Nama', 'Nilai'])\nValues dict_values(['Budi', 80])\n"
     ]
    }
   ],
   "source": [
    "print(\"Keys\", mydictionary.keys())\n",
    "print(\"Values\", mydictionary.values())"
   ]
  },
  {
   "source": [
    "Menampilkan pasangan key dan valuenya menjadi tuple"
   ],
   "cell_type": "markdown",
   "metadata": {}
  },
  {
   "cell_type": "code",
   "execution_count": 24,
   "metadata": {},
   "outputs": [
    {
     "output_type": "execute_result",
     "data": {
      "text/plain": [
       "dict_items([('Nama', 'Budi'), ('Nilai', 80)])"
      ]
     },
     "metadata": {},
     "execution_count": 24
    }
   ],
   "source": [
    "mydictionary.items()"
   ]
  },
  {
   "source": [
    "### Terusan\n",
    "\n",
    "Lebih lanjut tentang perintah - perintah yang ada dalam sebuah dictionary dan lainnya dapat dibaca di\n",
    "\n",
    "1. [Dictionary | w3schools](https://www.w3schools.com/python/python_dictionaries.asp)\n",
    "2. [Dictionary methods | w3schools](https://www.w3schools.com/python/python_dictionaries_methods.asp)"
   ],
   "cell_type": "markdown",
   "metadata": {}
  }
 ],
 "metadata": {
  "kernelspec": {
   "display_name": "Python 3",
   "language": "python",
   "name": "python3"
  },
  "language_info": {
   "codemirror_mode": {
    "name": "ipython",
    "version": 3
   },
   "file_extension": ".py",
   "mimetype": "text/x-python",
   "name": "python",
   "nbconvert_exporter": "python",
   "pygments_lexer": "ipython3",
   "version": "3.8.7-final"
  }
 },
 "nbformat": 4,
 "nbformat_minor": 2
}