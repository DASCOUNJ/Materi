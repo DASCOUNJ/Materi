{
 "metadata": {
  "language_info": {
   "codemirror_mode": {
    "name": "ipython",
    "version": 3
   },
   "file_extension": ".py",
   "mimetype": "text/x-python",
   "name": "python",
   "nbconvert_exporter": "python",
   "pygments_lexer": "ipython3",
   "version": "3.8.7-final"
  },
  "orig_nbformat": 2,
  "kernelspec": {
   "name": "python3",
   "display_name": "Python 3.8.7 64-bit",
   "metadata": {
    "interpreter": {
     "hash": "b5c2f9982651e6679fa9a68d4ecb0e0e8c17f3b7df4d9abcf37d6df8a7589c17"
    }
   }
  }
 },
 "nbformat": 4,
 "nbformat_minor": 2,
 "cells": [
  {
   "source": [
    "# Python Bagian 3\n",
    "\n",
    "Object Oriented Programming (`OOP`) pada python\n",
    "\n",
    "## Content :\n",
    "\n",
    "1. Object Oriented Programming\n",
    "    1. Class\n",
    "    2. Object / Instance\n",
    "2. Method\n",
    "    1. Tipe\n",
    "    2. Magic Method (`dunder`)\n",
    "3. Inheritaance\n",
    "\n",
    "## Referensi Bacaan\n",
    "\n",
    "1. [realpython](https://realpython.com/python3-object-oriented-programming/)\n",
    "2. [programiz](https://www.programiz.com/python-programming/object-oriented-programming)\n",
    "\n",
    "**© DASCO UNJ 2021**"
   ],
   "cell_type": "markdown",
   "metadata": {}
  },
  {
   "source": [
    "# Object Oriented Programming\n",
    "\n",
    "Obejct Oriented Programming (OOP) adalah sebuah paradigma pemrograman yang bertujuan menyelesaikan masalah menggunakan sebuah object\n",
    "\n",
    "![Object & Class](./Assets/Object-Class.png)\n",
    "\n",
    "1. Class<br>\n",
    "    Sebuah blueprint / template dari object\n",
    "2. Object / Instance<br>\n",
    "    Sebuah instance / instansi dari class ketika kelas di definisikan<br>\n",
    "    * Atribut\n",
    "    * Method / Kebiasaan"
   ],
   "cell_type": "markdown",
   "metadata": {}
  },
  {
   "source": [
    "### Membuat Kelas\n",
    "\n",
    "Membuat kelas di python dapat di lakukan dengan menggunakan perintah `class` dengan format\n",
    "\n",
    "```python\n",
    "class NamaKelas:\n",
    "    # Atribute / Method dari kelas\n",
    "```\n",
    "\n",
    "atau \n",
    "\n",
    "```python\n",
    "class NamaKelas(object):\n",
    "    # Atribute / Method dari kelas\n",
    "```"
   ],
   "cell_type": "markdown",
   "metadata": {}
  },
  {
   "cell_type": "code",
   "execution_count": 1,
   "metadata": {},
   "outputs": [],
   "source": [
    "class Sekolah:\n",
    "    # Attribute\n",
    "    nama = \"SMAN 10001 Jakarta\"\n",
    "    n_siswa = 7000\n",
    "\n",
    "    # Method\n",
    "    def info(self):\n",
    "        print(f'Nama Sekolah : {self.nama}\\nJumlah Siswa : {self.n_siswa}')"
   ]
  },
  {
   "source": [
    "### Mendefinisikan Kelas\n",
    "\n",
    "Mendefinisikan kelas menjadi sebuah object"
   ],
   "cell_type": "markdown",
   "metadata": {}
  },
  {
   "cell_type": "code",
   "execution_count": 2,
   "metadata": {},
   "outputs": [],
   "source": [
    "sma = Sekolah()"
   ]
  },
  {
   "source": [
    "Memanggil atribut atau method dari object tersebut"
   ],
   "cell_type": "markdown",
   "metadata": {}
  },
  {
   "cell_type": "code",
   "execution_count": 3,
   "metadata": {},
   "outputs": [
    {
     "output_type": "stream",
     "name": "stdout",
     "text": [
      "SMAN 10001 Jakarta\nNama Sekolah : SMAN 10001 Jakarta\nJumlah Siswa : 7000\n"
     ]
    }
   ],
   "source": [
    "# Memanggil atribut\n",
    "print(sma.nama)\n",
    "\n",
    "# Memanggil method\n",
    "sma.info()"
   ]
  },
  {
   "source": [
    "## Method\n",
    "\n",
    "Adalah fungsi yang di definisikan di dalam kelas yang biasanya digunakan untuk menyatakan kebiasaan dari sebuah object\n",
    "\n",
    "Method dari sebuah kelas dapat di cek menggunakan fungsi `dir()`"
   ],
   "cell_type": "markdown",
   "metadata": {}
  },
  {
   "cell_type": "code",
   "execution_count": 4,
   "metadata": {},
   "outputs": [
    {
     "output_type": "execute_result",
     "data": {
      "text/plain": [
       "['__class__',\n",
       " '__delattr__',\n",
       " '__dict__',\n",
       " '__dir__',\n",
       " '__doc__',\n",
       " '__eq__',\n",
       " '__format__',\n",
       " '__ge__',\n",
       " '__getattribute__',\n",
       " '__gt__',\n",
       " '__hash__',\n",
       " '__init__',\n",
       " '__init_subclass__',\n",
       " '__le__',\n",
       " '__lt__',\n",
       " '__module__',\n",
       " '__ne__',\n",
       " '__new__',\n",
       " '__reduce__',\n",
       " '__reduce_ex__',\n",
       " '__repr__',\n",
       " '__setattr__',\n",
       " '__sizeof__',\n",
       " '__str__',\n",
       " '__subclasshook__',\n",
       " '__weakref__',\n",
       " 'info',\n",
       " 'n_siswa',\n",
       " 'nama']"
      ]
     },
     "metadata": {},
     "execution_count": 4
    }
   ],
   "source": [
    "dir(Sekolah)"
   ]
  },
  {
   "source": [
    "### Magic Method (`dunder`)\n",
    "\n",
    "Method yang diawali dan diakhiri dengan 2 underscore.\n",
    "\n",
    "Contoh :\n",
    "\n",
    "1. `__init__` : constructor\n",
    "2. `__str__` : memberi return value kepada kelas ketika kelas di print\n",
    "3. dll : reverensi bacaan [holycoders](https://holycoders.com/python-dunder-special-methods/) "
   ],
   "cell_type": "markdown",
   "metadata": {}
  },
  {
   "cell_type": "code",
   "execution_count": 5,
   "metadata": {},
   "outputs": [],
   "source": [
    "class Ikan:\n",
    "    def __init__(self, nama):\n",
    "        self.nama = nama\n",
    "    \n",
    "    def __str__(self):\n",
    "        return f'Ikan {self.nama}'"
   ]
  },
  {
   "cell_type": "code",
   "execution_count": 6,
   "metadata": {},
   "outputs": [
    {
     "output_type": "stream",
     "name": "stdout",
     "text": [
      "Ikan Lele\n"
     ]
    }
   ],
   "source": [
    "lele = Ikan('Lele')\n",
    "print(lele)"
   ]
  },
  {
   "source": [
    "### Tipe - tipe Method\n",
    "\n",
    "1. Instancemethod : Adalah tipe method biasa yang digunakan\n",
    "2. Staticmethod : Method yang tidak memerlukan `instance` sebagai argumen. Method ini biasa di tandai dengan dekorator `@staticmethod` dan tidak memasukkan self kedalam parameternya\n",
    "3. Classmethod : Method yang tidak memerlukan `instance` sebagai argumen melainkan kelas itu sendiri sebagai argumentnya. Method ini biasa di tandai dengan dekorator `@classmethod` dan ada `cls` didalam parameternya"
   ],
   "cell_type": "markdown",
   "metadata": {}
  },
  {
   "cell_type": "code",
   "execution_count": 7,
   "metadata": {},
   "outputs": [],
   "source": [
    "class Segitiga:\n",
    "    def __init__(self, a, b, c):\n",
    "        self.a = a\n",
    "        self.b = b\n",
    "        self.c = c\n",
    "\n",
    "    # Instancemethod\n",
    "    def beneran(self):\n",
    "        return self.a + self.b > self.c\n",
    "        \n",
    "    # Staticmethod\n",
    "    @staticmethod\n",
    "    def check(a, b, c):\n",
    "        return a + b > c\n",
    "\n",
    "    # Classmethod\n",
    "    @classmethod\n",
    "    def dari_string(cls, string):\n",
    "        a, b, c = list(map(int, string.split()))\n",
    "        return cls(a, b, c)"
   ]
  },
  {
   "cell_type": "code",
   "execution_count": 8,
   "metadata": {},
   "outputs": [
    {
     "output_type": "stream",
     "name": "stdout",
     "text": [
      "False\nFalse\nTrue\n"
     ]
    }
   ],
   "source": [
    "segitiga_1 = Segitiga(1, 2, 3)\n",
    "print(segitiga_1.beneran())\n",
    "\n",
    "segitiga_2 = Segitiga.dari_string('3 4 5')\n",
    "print(segitiga_1.beneran())\n",
    "\n",
    "a, b, c = 6, 7, 8\n",
    "print(Segitiga.check(a, b, c))"
   ]
  },
  {
   "source": [
    "## Inheritance\n",
    "\n",
    "Adalah cara membuat kelas baru dengan menggunakan keterangan dari kelas lama. Sebuah kelas merupakan sebuah instance dari kelas lainnya dapat di cek dengan fungsi `isinstance()`. Cara melakukan inheritance di python adalah\n",
    "\n",
    "```python\n",
    "class Child(ParentClass):\n",
    "    pass\n",
    "```"
   ],
   "cell_type": "markdown",
   "metadata": {}
  },
  {
   "cell_type": "code",
   "execution_count": 9,
   "metadata": {},
   "outputs": [],
   "source": [
    "class Burung:\n",
    "    def __init__(self, jenis):\n",
    "        self.jenis = jenis\n",
    "\n",
    "    def terbang(self):\n",
    "        print(f\"Burung {self.jenis} bisa terbang\")\n",
    "\n",
    "class Pinguin(Burung):\n",
    "    def __init__(self, nama):\n",
    "        super().__init__(\"Pinguin\")\n",
    "        self.nama = nama\n",
    "\n",
    "    def terbang(self):\n",
    "        print(f'Pinguin tidak bisa terbang')\n",
    "\n",
    "    def berenang(self):\n",
    "        print(f'Pinguin {self.nama} bisa berenang')"
   ]
  },
  {
   "cell_type": "code",
   "execution_count": 10,
   "metadata": {},
   "outputs": [
    {
     "output_type": "stream",
     "name": "stdout",
     "text": [
      "Burung Burung Hantu bisa terbang\nPinguin Joni bisa berenang\nPinguin tidak bisa terbang\n"
     ]
    }
   ],
   "source": [
    "burung_gereja = Burung('Burung Hantu')\n",
    "burung_gereja.terbang()\n",
    "\n",
    "pinguin_1 = Pinguin('Joni')\n",
    "pinguin_1.berenang()\n",
    "pinguin_1.terbang()"
   ]
  }
 ]
}