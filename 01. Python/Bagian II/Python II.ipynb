{
 "cells": [
  {
   "cell_type": "markdown",
   "metadata": {},
   "source": [
    "# Python Bagian II\n",
    "\n",
    "`Condition`, `Looping`, `Exception` di Python\n",
    "\n",
    "<br>\n",
    "<table style=\"float:center; font-family:cursive; border:1px; border-style:solid;\">\n",
    "    <tr style=\"font-size:1.8em;\">\n",
    "        <th>No.</th>\n",
    "        <th style=\"text-align:center; border:1px; border-style:solid;\">Materi</th>\n",
    "        <th style=\"text-align:center;\">Deskripsi</th>\n",
    "        <th style=\"text-align:center; border:1px; border-style:solid;\">Referensi Bacaan</th>\n",
    "    </tr>\n",
    "    <tr style=\"font-size:1.3em; border:1px; border-style:solid\">\n",
    "        <td style=\"text-align:center;\">1.</td>\n",
    "        <td style=\"text-align:center; border:1px; border-style:solid;\"><a href=\"#1\" style=\"text-decoration:none;\">Condition</a></td>\n",
    "        <td style=\"text-align:left;\">Melakukan perintah (operasi) sesuai dengan kondisi yang diberikan</td>\n",
    "        <td style=\"text-align:center; border:1px; border-style:solid;\"><a href=\"https://www.w3schools.com/python/python_conditions.asp\">w3schools</a></td>\n",
    "    </tr>\n",
    "    <tr style=\"font-size:1.3em; border:1px; border-style:solid\">\n",
    "        <td style=\"text-align:center;\">2.</td>\n",
    "        <td style=\"text-align:center; border:1px; border-style:solid;\"><a href=\"#2\" style=\"text-decoration:none;\">Looping</a></td>\n",
    "        <td style=\"text-align:left;\">Melakukan pengulangan sesuai dengan kondisi atau pada elemen - elemen pada data tipe sequence</td>\n",
    "        <td style=\"text-align:center; border:1px; border-style:solid;\"><a href=\"https://www.learnpython.org/en/Loops\">learnpython</a></td>\n",
    "    </tr>\n",
    "    <tr style=\"font-size:1.3em; border:1px; border-style:solid\">\n",
    "        <td style=\"text-align:center;\">3.</td>\n",
    "        <td style=\"text-align:center; border:1px; border-style:solid;\"><a href=\"#3\" style=\"text-decoration:none;\">Exception</a></td>\n",
    "        <td style=\"text-align:left;\">Mekanisme penanganan error saat runtime (program berjalan)</td>\n",
    "        <td style=\"text-align:center; border:1px; border-style:solid;\"><a href=\"https://www.w3schools.com/python/python_try_except.asp\">w3schools</a></td>\n",
    "    </tr>\n",
    "    <tr style=\"font-size:1.3em;border:1px; border-style:solid\">\n",
    "        <td style=\"text-align:center;\">6.</td>\n",
    "        <td style=\"text-align:center; border:1px; border-style:solid;\"><a href=\"#6\" style=\"text-decoration:none;\">Function</a></td>\n",
    "        <td style=\"text-align:left;\">Sebuah blok kode yang akan tereksekusi jika di panggil</td>\n",
    "        <td style=\"text-align:center; border:1px; border-style:solid;\"><a href=\"https://www.w3schools.com/python/python_functions.asp\">w3schools</a></td>\n",
    "    </tr>\n",
    "</table>\n",
    "\n",
    "© DASCO UNJ 2021"
   ]
  },
  {
   "cell_type": "markdown",
   "metadata": {},
   "source": [
    "## 1. Condition <a class=\"anchor\" id=\"1\"></a>\n",
    "\n",
    "Digunakan untuk mengatur apa yang harus dijalankan berdasarkan kondisi yang diberikan\n",
    "\n",
    "Untuk mengatur kondisi di python digunakan perintah\n",
    "\n",
    "* `if`   : Kondisi awal\n",
    "* `elif` : Kondisi berikutnya yang hanya akan tereksekusi jika kondisi awal tidak terpenuhi\n",
    "* `else` : Negasi dari setiap kondisi yang disebutkan sebelumnya"
   ]
  },
  {
   "cell_type": "code",
   "execution_count": 4,
   "metadata": {},
   "outputs": [],
   "source": [
    "x = -1"
   ]
  },
  {
   "cell_type": "code",
   "execution_count": 5,
   "metadata": {},
   "outputs": [
    {
     "name": "stdout",
     "output_type": "stream",
     "text": [
      "negatif\n"
     ]
    }
   ],
   "source": [
    "if x > 0:\n",
    "    print('positif')\n",
    "elif x < 0:\n",
    "    print('negatif')\n",
    "else:\n",
    "    print('Bilangan nol')"
   ]
  },
  {
   "cell_type": "markdown",
   "metadata": {},
   "source": [
    "### One Line Condition\n",
    "\n",
    "Kita juga dapat membuat if else dalam satu baris dengan format \n",
    "\n",
    "`(nilai jika kondisi benar) if (kondisi) else (nilai jika kondisi salah)`"
   ]
  },
  {
   "cell_type": "code",
   "execution_count": 6,
   "metadata": {},
   "outputs": [],
   "source": [
    "x = 10"
   ]
  },
  {
   "cell_type": "code",
   "execution_count": 7,
   "metadata": {},
   "outputs": [
    {
     "data": {
      "text/plain": [
       "True"
      ]
     },
     "execution_count": 7,
     "metadata": {},
     "output_type": "execute_result"
    }
   ],
   "source": [
    "x_positif = True if x > 0 else False\n",
    "x_positif"
   ]
  },
  {
   "cell_type": "code",
   "execution_count": 8,
   "metadata": {},
   "outputs": [
    {
     "data": {
      "text/plain": [
       "1"
      ]
     },
     "execution_count": 8,
     "metadata": {},
     "output_type": "execute_result"
    }
   ],
   "source": [
    "1 if 1 > 0 else 9 "
   ]
  },
  {
   "cell_type": "markdown",
   "metadata": {},
   "source": [
    "## 2. Looping <a class=\"anchor\" id=\"2\"></a>\n",
    "\n",
    "Digunakan untuk melakukan pengulangan sesuai dengan kondisi atau pada elemen elemen tipe data sequence\n",
    "\n",
    "Untuk melakukan looping di python digunakan perintah :\n",
    "\n",
    "* `while` : perintah yang akan mengulang satu set kode selama kondisi pengulangannya benar(True)\n",
    "* `for`   : perintah yang akan mengulang satu set code sebanyak element yang ada pada sebuah data bertipe\n",
    "sequence"
   ]
  },
  {
   "cell_type": "markdown",
   "metadata": {},
   "source": [
    "### 2.1 While\n",
    "\n",
    "* Digunakan ketika tidak diketahui berapa jumlah pengulangan yang optimal untuk mengatasi suatu masalah\n",
    "* Perlu diberikan `exit condition` untuk keluar dari loop, jika tidak diberikan maka akan terjadi infinite loop"
   ]
  },
  {
   "cell_type": "code",
   "execution_count": null,
   "metadata": {},
   "outputs": [],
   "source": [
    "# Infinite loop (Tanpa exit condition)\n",
    "# Kalau ke-run stop dengan interupt\n",
    "while True:\n",
    "    print(\"Infinite Loop\")"
   ]
  },
  {
   "cell_type": "code",
   "execution_count": null,
   "metadata": {},
   "outputs": [],
   "source": [
    "angka = 0\n",
    "while angka < 5:\n",
    "    print(angka)\n",
    "    angka+=1"
   ]
  },
  {
   "cell_type": "markdown",
   "metadata": {},
   "source": [
    "### 2.2 For\n",
    "\n",
    "* Digunakan jika diketahui berapa jumlah pengulangan yang dibutuhkan\n",
    "* Mengulang sebanyak jumlah element yang ada pada data tipe sequence"
   ]
  },
  {
   "cell_type": "code",
   "execution_count": 10,
   "metadata": {},
   "outputs": [
    {
     "name": "stdout",
     "output_type": "stream",
     "text": [
      "0\n",
      "1\n",
      "2\n"
     ]
    }
   ],
   "source": [
    "for i in range(3):\n",
    "    print(i)"
   ]
  },
  {
   "cell_type": "code",
   "execution_count": 12,
   "metadata": {},
   "outputs": [
    {
     "name": "stdout",
     "output_type": "stream",
     "text": [
      "1\n",
      "2\n",
      "3\n",
      "4\n"
     ]
    }
   ],
   "source": [
    "for i in [1, 2, \"aku\", \"kamu\", \"dia\"]:\n",
    "    print(i)"
   ]
  },
  {
   "cell_type": "markdown",
   "metadata": {},
   "source": [
    "### 2.3 Continue & Break\n",
    "\n",
    "* Continue Digunakan untuk melewati sebuah set kode yang berada dibawahnya pada saat\n",
    "looping\n",
    "* Break Digunakan untuk keluar dari loop secara paksa"
   ]
  },
  {
   "cell_type": "code",
   "execution_count": 50,
   "metadata": {},
   "outputs": [
    {
     "name": "stdout",
     "output_type": "stream",
     "text": [
      "5\n",
      "6\n"
     ]
    }
   ],
   "source": [
    "for i in range(7):\n",
    "    if i < 5:\n",
    "        continue\n",
    "    print(i)"
   ]
  },
  {
   "cell_type": "code",
   "execution_count": 51,
   "metadata": {},
   "outputs": [
    {
     "name": "stdout",
     "output_type": "stream",
     "text": [
      "0\n",
      "1\n",
      "2\n",
      "3\n",
      "4\n"
     ]
    }
   ],
   "source": [
    "for i in range(10):\n",
    "    if i > 4:\n",
    "        break\n",
    "    print(i)"
   ]
  },
  {
   "cell_type": "code",
   "execution_count": 16,
   "metadata": {},
   "outputs": [
    {
     "name": "stdout",
     "output_type": "stream",
     "text": [
      "0\n"
     ]
    }
   ],
   "source": [
    "while True:\n",
    "    print(\"Bukan Infinite Loop\")\n",
    "    break"
   ]
  },
  {
   "cell_type": "markdown",
   "metadata": {},
   "source": [
    "### 2.4 List Comprehension\n",
    "\n",
    "Digunakan untuk medifinisikan sebuah tipe data sequence dengan ketentuan tertentu dari data sequence lainnya"
   ]
  },
  {
   "cell_type": "code",
   "execution_count": 52,
   "metadata": {},
   "outputs": [
    {
     "data": {
      "text/plain": [
       "[0, 1, 4, 9, 16, 25, 36, 49, 64, 81]"
      ]
     },
     "execution_count": 52,
     "metadata": {},
     "output_type": "execute_result"
    }
   ],
   "source": [
    "my_list4 = [i**2 for i in range(10)]\n",
    "my_list4"
   ]
  },
  {
   "cell_type": "code",
   "execution_count": 53,
   "metadata": {},
   "outputs": [
    {
     "data": {
      "text/plain": [
       "{0: 0, 1: 1, 2: 4, 3: 9, 4: 16, 5: 25, 6: 36, 7: 49, 8: 64, 9: 81}"
      ]
     },
     "execution_count": 53,
     "metadata": {},
     "output_type": "execute_result"
    }
   ],
   "source": [
    "my_dict = {i:i**2 for i in range(10)}\n",
    "my_dict"
   ]
  },
  {
   "cell_type": "markdown",
   "metadata": {},
   "source": [
    "list comprehension bisa juga dipadukan dengan condition dengan ketentuan\n",
    "\n",
    "* `[(nilai) for loop if (kondisi)]`\n",
    "* `[(nilai jika kondisi benar) if (kondisi) else (nilai jika kondisi salah) for loop]`"
   ]
  },
  {
   "cell_type": "code",
   "execution_count": 54,
   "metadata": {},
   "outputs": [
    {
     "data": {
      "text/plain": [
       "[1, 3, 5, 7, 9]"
      ]
     },
     "execution_count": 54,
     "metadata": {},
     "output_type": "execute_result"
    }
   ],
   "source": [
    "my_list5 = [i for i in range(10) if i%2]\n",
    "my_list5"
   ]
  },
  {
   "cell_type": "code",
   "execution_count": 55,
   "metadata": {},
   "outputs": [
    {
     "data": {
      "text/plain": [
       "[0, 1, 2, 3, 4, 5, 36, 49, 64, 81]"
      ]
     },
     "execution_count": 55,
     "metadata": {},
     "output_type": "execute_result"
    }
   ],
   "source": [
    "my_list6 = [i**2 if i**2 > 30 else i for i in range(10)]\n",
    "my_list6"
   ]
  },
  {
   "cell_type": "markdown",
   "metadata": {},
   "source": [
    "## 3. Exception <a class=\"anchor\" id=\"3\"></a>\n",
    "\n",
    "Mekanisme penanganan error saat runtime (Program berjalan). \n",
    "\n",
    "* try : Perintah untuk mencoba satu set code\n",
    "* except : Perintah untuk menangani error jika terjadi pada satu set kode di dalam perintah try"
   ]
  },
  {
   "cell_type": "code",
   "execution_count": 19,
   "metadata": {},
   "outputs": [
    {
     "ename": "TypeError",
     "evalue": "unsupported operand type(s) for +=: 'int' and 'str'",
     "output_type": "error",
     "traceback": [
      "\u001b[1;31m---------------------------------------------------------------------------\u001b[0m",
      "\u001b[1;31mTypeError\u001b[0m                                 Traceback (most recent call last)",
      "\u001b[1;32m<ipython-input-19-4bbb9e695826>\u001b[0m in \u001b[0;36m<module>\u001b[1;34m\u001b[0m\n\u001b[0;32m      1\u001b[0m \u001b[1;32mfor\u001b[0m \u001b[0mi\u001b[0m \u001b[1;32min\u001b[0m \u001b[0mmy_list\u001b[0m\u001b[1;33m:\u001b[0m\u001b[1;33m\u001b[0m\u001b[1;33m\u001b[0m\u001b[0m\n\u001b[1;32m----> 2\u001b[1;33m     \u001b[0mjumlah\u001b[0m\u001b[1;33m+=\u001b[0m\u001b[0mi\u001b[0m\u001b[1;33m\u001b[0m\u001b[1;33m\u001b[0m\u001b[0m\n\u001b[0m",
      "\u001b[1;31mTypeError\u001b[0m: unsupported operand type(s) for +=: 'int' and 'str'"
     ]
    }
   ],
   "source": [
    "# Contoh program yang menghasilkan error\n",
    "my_list = [1,2,3,'4',5]\n",
    "jumlah = 0\n",
    "for i in my_list:\n",
    "    jumlah += i"
   ]
  },
  {
   "cell_type": "markdown",
   "metadata": {},
   "source": [
    "untuk menangani hal ini dapat digunakan perintah `try` dan `except`"
   ]
  },
  {
   "cell_type": "code",
   "execution_count": 56,
   "metadata": {},
   "outputs": [
    {
     "data": {
      "text/plain": [
       "11"
      ]
     },
     "execution_count": 56,
     "metadata": {},
     "output_type": "execute_result"
    }
   ],
   "source": [
    "jumlah = 0\n",
    "for i in my_list:\n",
    "    try:\n",
    "        jumlah+=i\n",
    "    except:\n",
    "        continue\n",
    "jumlah"
   ]
  },
  {
   "cell_type": "markdown",
   "metadata": {},
   "source": [
    "dalam penggunaannya `try` harus di dampingi dengan `except` "
   ]
  },
  {
   "cell_type": "code",
   "execution_count": 23,
   "metadata": {},
   "outputs": [
    {
     "ename": "SyntaxError",
     "evalue": "unexpected EOF while parsing (<ipython-input-23-033b856b14a5>, line 3)",
     "output_type": "error",
     "traceback": [
      "\u001b[1;36m  File \u001b[1;32m\"<ipython-input-23-033b856b14a5>\"\u001b[1;36m, line \u001b[1;32m3\u001b[0m\n\u001b[1;33m    print(i**2)\u001b[0m\n\u001b[1;37m               ^\u001b[0m\n\u001b[1;31mSyntaxError\u001b[0m\u001b[1;31m:\u001b[0m unexpected EOF while parsing\n"
     ]
    }
   ],
   "source": [
    "for i in range(10):\n",
    "    try:\n",
    "        print(i**2)"
   ]
  },
  {
   "cell_type": "markdown",
   "metadata": {},
   "source": [
    "## 6. Function <a class=\"anchor\" id=\"6\"></a>\n",
    "\n",
    "Untuk mempermudah pekerjaan kita tidak hanya bisa mengandalkan fungsi bawaan python. Untuk membuat fungsi baru dapat digunakan perintah `def` dan `return` untuk mengembalikan nilai dari fungsi tersebut dengan ketentuan\n",
    "\n",
    "```\n",
    "def NAMA_FUNGSI(PARAMETERNYA):\n",
    "    ---\n",
    "    Code\n",
    "    ---\n",
    "    return NILAI\n",
    "```"
   ]
  },
  {
   "cell_type": "markdown",
   "metadata": {},
   "source": [
    "fungsi tanpa return (void)"
   ]
  },
  {
   "cell_type": "code",
   "execution_count": 57,
   "metadata": {},
   "outputs": [
    {
     "name": "stdout",
     "output_type": "stream",
     "text": [
      "Selamat pagi bambang\n"
     ]
    }
   ],
   "source": [
    "def sebut_namaku(nama):\n",
    "    print('Selamat pagi', nama)\n",
    "\n",
    "sebut_namaku('bambang')"
   ]
  },
  {
   "cell_type": "markdown",
   "metadata": {},
   "source": [
    "ketika di assign ke dalam sebuah variable maka akan mengasilkan `None`"
   ]
  },
  {
   "cell_type": "code",
   "execution_count": 59,
   "metadata": {},
   "outputs": [
    {
     "name": "stdout",
     "output_type": "stream",
     "text": [
      "Selamat pagi bambang\n"
     ]
    }
   ],
   "source": [
    "new = sebut_namaku('bambang')"
   ]
  },
  {
   "cell_type": "code",
   "execution_count": 60,
   "metadata": {},
   "outputs": [],
   "source": [
    "new"
   ]
  },
  {
   "cell_type": "markdown",
   "metadata": {},
   "source": [
    "fungsi dengan return"
   ]
  },
  {
   "cell_type": "code",
   "execution_count": 61,
   "metadata": {},
   "outputs": [],
   "source": [
    "def pangkat(angka):\n",
    "    return angka ** 2"
   ]
  },
  {
   "cell_type": "code",
   "execution_count": 62,
   "metadata": {},
   "outputs": [
    {
     "data": {
      "text/plain": [
       "100"
      ]
     },
     "execution_count": 62,
     "metadata": {},
     "output_type": "execute_result"
    }
   ],
   "source": [
    "hasil = pangkat(10)\n",
    "hasil"
   ]
  },
  {
   "cell_type": "markdown",
   "metadata": {},
   "source": [
    "### Parameters packing\n",
    "\n",
    "* Pack ke tuple\n",
    "* Pack ke Dictionary"
   ]
  },
  {
   "cell_type": "code",
   "execution_count": 64,
   "metadata": {},
   "outputs": [
    {
     "data": {
      "text/plain": [
       "('saya', 'dia', 'mereka', 'kalian')"
      ]
     },
     "execution_count": 64,
     "metadata": {},
     "output_type": "execute_result"
    }
   ],
   "source": [
    "# pack ke tupple\n",
    "def halo_dunia(*args):\n",
    "    return args\n",
    "\n",
    "halo_dunia('saya','dia', 'mereka','kalian')"
   ]
  },
  {
   "cell_type": "code",
   "execution_count": 65,
   "metadata": {},
   "outputs": [
    {
     "data": {
      "text/plain": [
       "{'nama': 'dimas', 'pekerjaan': 'mahasiswa', 'rumah': 'bekasi'}"
      ]
     },
     "execution_count": 65,
     "metadata": {},
     "output_type": "execute_result"
    }
   ],
   "source": [
    "# pack ke dictionary\n",
    "def deskripsi(**kwargs):\n",
    "    return kwargs\n",
    "\n",
    "deskripsi(nama='dimas', pekerjaan='mahasiswa', rumah='bekasi')"
   ]
  },
  {
   "cell_type": "markdown",
   "metadata": {},
   "source": [
    "### Lambda\n",
    "\n",
    "Lambda adalah cara lain untuk membuat fungsi lebih sederhana.\n",
    "\n",
    "```\n",
    "VARIABLE = lambda ARGS : RETURN_NILAI\n",
    "```"
   ]
  },
  {
   "cell_type": "code",
   "execution_count": 66,
   "metadata": {},
   "outputs": [
    {
     "data": {
      "text/plain": [
       "4"
      ]
     },
     "execution_count": 66,
     "metadata": {},
     "output_type": "execute_result"
    }
   ],
   "source": [
    "# Menulis kembali fungsi pangkat\n",
    "lambda_pangkat = lambda x: x**2\n",
    "lambda_pangkat(2)"
   ]
  },
  {
   "cell_type": "markdown",
   "metadata": {},
   "source": [
    "lambda dengan parameter lebih dari 1"
   ]
  },
  {
   "cell_type": "code",
   "execution_count": 48,
   "metadata": {},
   "outputs": [],
   "source": [
    "x_y_z = lambda x,y,z: x*y*z"
   ]
  },
  {
   "cell_type": "code",
   "execution_count": 49,
   "metadata": {},
   "outputs": [
    {
     "data": {
      "text/plain": [
       "24"
      ]
     },
     "execution_count": 49,
     "metadata": {},
     "output_type": "execute_result"
    }
   ],
   "source": [
    "x_y_z(2,3,4)"
   ]
  }
 ],
 "metadata": {
  "kernelspec": {
   "display_name": "Python 3",
   "language": "python",
   "name": "python3"
  },
  "language_info": {
   "codemirror_mode": {
    "name": "ipython",
    "version": 3
   },
   "file_extension": ".py",
   "mimetype": "text/x-python",
   "name": "python",
   "nbconvert_exporter": "python",
   "pygments_lexer": "ipython3",
   "version": "3.8.7"
  }
 },
 "nbformat": 4,
 "nbformat_minor": 4
}
